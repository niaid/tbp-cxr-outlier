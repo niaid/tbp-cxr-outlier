{
 "cells": [
  {
   "cell_type": "markdown",
   "metadata": {},
   "source": [
    "# A Notebook for evalutation train models on data\n",
    "\n",
    "The evaluation is done by loading a data set, then using pre-trained models visualizing the resulting classes.\n",
    "\n",
    "The loading, registering, and conversion to a observation array the most time. For each data-set this is done once and then the results of each model are evaluated. This approach will only work when all models use the same atlas and reference image parameters."
   ]
  },
  {
   "cell_type": "code",
   "execution_count": null,
   "metadata": {},
   "outputs": [],
   "source": [
    "%matplotlib inline\n",
    "TBP_DCM_PATH=\"/scratch/tb/cxr/\"\n",
    "INDIANA_DCM_PATH=\"/scratch/tb/NLM_Indiana_CXRs/cxr/\" # Indiana University/NLM CXRs (https://openi.nlm.nih.gov)\n",
    "NIH_CXR_PATH=\"/scratch/tb/NIH_CXR/images_001/images\" # NIH CXRs (https://www.kaggle.com/nih-chest-xrays/data)\n",
    "NUMBER_SAMPLES=500\n",
    "RANDOM_SEED=13\n",
    "\n",
    "SAMPLE_IMAGE_SIZE=64"
   ]
  },
  {
   "cell_type": "code",
   "execution_count": null,
   "metadata": {},
   "outputs": [],
   "source": [
    "from glob import glob\n",
    "import random\n",
    "import functools\n",
    "import multiprocessing\n",
    "\n",
    "from functools import partial\n",
    "import SimpleITK as sitk\n",
    "\n",
    "import pandas\n",
    "\n",
    "import numpy as np\n",
    "from numpy import linalg as LA\n",
    "\n",
    "\n",
    "import matplotlib.pyplot as plt\n",
    "\n",
    "from myshow import myshow\n",
    "\n",
    "import pickle\n",
    "import os"
   ]
  },
  {
   "cell_type": "code",
   "execution_count": null,
   "metadata": {},
   "outputs": [],
   "source": [
    "from importlib import reload  \n",
    "import tbpcxr.model\n",
    "from tbpcxr.model import PCAModel, Model\n",
    "reload(tbpcxr.model)\n",
    "PCAModel = tbpcxr.model.PCAModel\n",
    "Model = tbpcxr.model.Model\n",
    "\n",
    "from tbpcxr.utilities import read_dcm, normalize_img\n",
    "import tbpcxr.registration "
   ]
  },
  {
   "cell_type": "code",
   "execution_count": null,
   "metadata": {},
   "outputs": [],
   "source": [
    "def tile_with_classification(image_list, class_list, width=10): \n",
    "    \"\"\"\n",
    "    A method for visualizing images tiled, where the outliers are colored red.\n",
    "    \"\"\"\n",
    "    \n",
    "    def img_to_classification(img, c):\n",
    "        img = sitk.RescaleIntensity(img, outputMinimum=0, outputMaximum=255) \n",
    "        img = sitk.Cast(img, sitk.sitkUInt8)\n",
    "    \n",
    "        img2 = img//2\n",
    "    \n",
    "        if (c < 0 ):\n",
    "            img = sitk.Compose(img, img2, img2)\n",
    "        else:\n",
    "            img = sitk.Compose(img, img, img)\n",
    "        return img\n",
    "    \n",
    "    return sitk.Tile([ img_to_classification(img, c) for img,c  in zip(image_list, class_list)], [width,0])\n",
    "\n"
   ]
  },
  {
   "cell_type": "code",
   "execution_count": null,
   "metadata": {},
   "outputs": [],
   "source": [
    "# A list of models in the models subdirectory to evaluate\n",
    "model_name_list = [\"pca-2-10c\", \"pca-2-07c\", \"pca-2-06c\", \"pca-2-05c\"]\n",
    "model_name_list = [os.path.join(\"models\", fn+\".pkl\") for fn in model_name_list]\n",
    "model_name = model_name_list[0]\n",
    "cxr_model = Model.load_model(model_name)"
   ]
  },
  {
   "cell_type": "code",
   "execution_count": null,
   "metadata": {},
   "outputs": [],
   "source": [
    "print(dir(cxr_model))\n",
    "if False:\n",
    "    # Coversion from v0.1 class to new ABC\n",
    "    cxr_model.image_reference = cxr_model.image_ref\n",
    "    cxr_model.reference_crop = 6\n",
    "    del cxr_model.image_ref\n",
    "\n",
    "    pkl_filename = \"pca-002.pkl\"\n",
    "    with open(pkl_filename, 'wb') as file:\n",
    "        pickle.dump(cxr_model, file)"
   ]
  },
  {
   "cell_type": "markdown",
   "metadata": {},
   "source": [
    "# TB Portals Data Set"
   ]
  },
  {
   "cell_type": "code",
   "execution_count": null,
   "metadata": {},
   "outputs": [],
   "source": [
    "tbp_file_list = glob(TBP_DCM_PATH+\"/**.dcm\")\n",
    "\n",
    "print( \"Found {0} DICOM.\".format(len(tbp_file_list)))\n",
    "\n",
    "\n",
    "random.seed(RANDOM_SEED)\n",
    "tbp_sample_list = random.sample(tbp_file_list, NUMBER_SAMPLES)\n",
    "tbp_arr = cxr_model.to_observations(map(read_dcm, tbp_sample_list))\n",
    "\n"
   ]
  },
  {
   "cell_type": "code",
   "execution_count": null,
   "metadata": {},
   "outputs": [],
   "source": [
    "img = tile_with_classification([normalize_img(read_dcm(fn), sample_size=128) for fn in tbp_sample_list], [1]*len(tbp_sample_list), 25)\n",
    "myshow(img)\n",
    "sitk.WriteImage(img, \"tbp-input.png\")"
   ]
  },
  {
   "cell_type": "code",
   "execution_count": null,
   "metadata": {},
   "outputs": [],
   "source": [
    "for model_name in model_name_list: \n",
    "\n",
    "    cxr_model = Model.load_model(model_name+\".pkl\")\n",
    "    \n",
    "    outlier_results = cxr_model.outlier_predictor(tbp_arr)\n",
    "    \n",
    "    \n",
    "    print(\"Outlier {}% for model {}\".format(np.count_nonzero( outlier_results == -1)/len(outlier_results), model_name))\n",
    "    #img = tile_with_classification(cxr_model._arr_to_images(tbp_arr), outlier_results, 25)\n",
    "    img = tile_with_classification([normalize_img(read_dcm(fn), sample_size=128) for fn in tbp_sample_list], outlier_results, 25)\n",
    "    sitk.WriteImage(img, \"tbp-\"+model_name+\".png\")\n",
    "\n",
    "    myshow(img, title=model_name)\n"
   ]
  },
  {
   "cell_type": "code",
   "execution_count": null,
   "metadata": {},
   "outputs": [],
   "source": [
    "list_idx=25\n",
    "filename = tbp_sample_list[list_idx]\n",
    "img = read_dcm(filename)\n",
    "\n",
    "myshow(normalize_img(img, sample_size=256))\n",
    "rimg = cxr_model.register_to_atlas_and_resample(normalize_img(img))\n",
    "print(tbp_file_list[list_idx] )\n",
    "myshow(rimg)\n",
    "arr = cxr_model._images_to_arr([rimg])\n",
    "\n",
    "print(\"PCA RMS image residuals: {}\".format(cxr_model.residuals(arr)))\n",
    "print(\"PCA mahalanobis: {}\".format(cxr_model.robust_distance(arr)))\n",
    "print(cxr_model.outlier_predictor(arr))"
   ]
  },
  {
   "cell_type": "code",
   "execution_count": null,
   "metadata": {},
   "outputs": [],
   "source": [
    "indiana_file_list =  glob(INDIANA_DCM_PATH+\"/**/*.dcm\", recursive=True)\n",
    "print( \"Found {0} DICOM.\".format(len(indiana_file_list)))\n",
    "\n",
    "\n",
    "random.seed(RANDOM_SEED)\n",
    "indiana_sample_list = random.sample(indiana_file_list, NUMBER_SAMPLES)\n",
    "indiana_arr = cxr_model.to_observations(map(read_dcm, indiana_sample_list))\n"
   ]
  },
  {
   "cell_type": "code",
   "execution_count": null,
   "metadata": {
    "scrolled": true
   },
   "outputs": [],
   "source": [
    "for model_name in model_name_list: \n",
    "\n",
    "    cxr_model = Model.load_model(model_name+\".pkl\")\n",
    "    \n",
    "    outlier_results = cxr_model.outlier_predictor(indiana_arr)\n",
    "    \n",
    "    \n",
    "    print(\"Outlier {}% for model {}\".format(np.count_nonzero( outlier_results == -1)/len(outlier_results), model_name))\n",
    "    #img = tile_with_classification(cxr_model._arr_to_images(tbp_arr), outlier_results, 25)\n",
    "    img = tile_with_classification([normalize_img(read_dcm(fn), sample_size=128) for fn in indiana_sample_list], outlier_results, 25)\n",
    "    sitk.WriteImage(img, \"indiana-\"+model_name+\".png\")\n",
    "\n",
    "    myshow(img, title=model_name)\n"
   ]
  },
  {
   "cell_type": "markdown",
   "metadata": {},
   "source": [
    "# NIH CXR Data Set"
   ]
  },
  {
   "cell_type": "code",
   "execution_count": null,
   "metadata": {},
   "outputs": [],
   "source": [
    "nih_file_list =  glob(NIH_CXR_PATH+\"/**/*.png\", recursive=True)\n",
    "print( \"Found {0} PNG.\".format(len(nih_file_list)))\n",
    "\n",
    "\n",
    "random.seed(RANDOM_SEED)\n",
    "nih_sample_list = random.sample(nih_file_list, NUMBER_SAMPLES)\n",
    "nih_arr = cxr_model.to_observations(map(lambda fn: sitk.ReadImage(fn, sitk.sitkFloat32), nih_sample_list))\n"
   ]
  },
  {
   "cell_type": "code",
   "execution_count": null,
   "metadata": {},
   "outputs": [],
   "source": [
    "for model_name in model_name_list: \n",
    "\n",
    "    cxr_model = Model.load_model(model_name+\".pkl\")\n",
    "    \n",
    "    outlier_results = cxr_model.outlier_predictor(nih_arr)\n",
    "    \n",
    "    \n",
    "    print(\"Outlier {}% for model {}\".format(np.count_nonzero( outlier_results == -1)/len(outlier_results), model_name))\n",
    "    #img = tile_with_classification(cxr_model._arr_to_images(nih_arr), outlier_results, 25)\n",
    "    img = tile_with_classification([normalize_img(sitk.ReadImage(fn, sitk.sitkFloat32), sample_size=128) for fn in nih_sample_list], outlier_results, 25)\n",
    "    sitk.WriteImage(img, \"nih-\"+model_name+\".png\")\n",
    "\n",
    "    myshow(img, title=model_name)\n",
    "    "
   ]
  },
  {
   "cell_type": "code",
   "execution_count": null,
   "metadata": {},
   "outputs": [],
   "source": [
    "myshow(sitk.ReadImage(nih_file_list[91]))"
   ]
  },
  {
   "cell_type": "markdown",
   "metadata": {},
   "source": [
    "# Natural Images\n",
    "\n",
    "These images are not medical and should not look anything like a CXR image."
   ]
  },
  {
   "cell_type": "code",
   "execution_count": null,
   "metadata": {},
   "outputs": [],
   "source": [
    "image_list = glob(\"images/*\")\n",
    "sitk.Show(sitk.Tile([normalize_img(sitk.ReadImage(fn,sitk.sitkFloat32), sample_size=128) for fn in image_list], [5,0]))\n",
    "sitk.Show(sitk.Tile(cxr_model._arr_to_images(image_arr), [5,0]))\n",
    "image_arr = cxr_model.to_observations(map(lambda fn: sitk.ReadImage(fn, sitk.sitkFloat32), image_list))\n"
   ]
  },
  {
   "cell_type": "code",
   "execution_count": null,
   "metadata": {},
   "outputs": [],
   "source": [
    "for model_name in model_name_list: \n",
    "\n",
    "    cxr_model = Model.load_model(model_name+\".pkl\")\n",
    "    \n",
    "    outlier_results = cxr_model.outlier_predictor(image_arr)\n",
    "    img = tile_with_classification([normalize_img(sitk.ReadImage(fn,sitk.sitkFloat32), sample_size=128) for fn in image_list], outlier_results, 5)\n",
    "    sitk.WriteImage(img, \"image-\"+model_name+\".png\")\n",
    "\n",
    "    myshow(img, title=model_name)"
   ]
  },
  {
   "cell_type": "markdown",
   "metadata": {},
   "source": [
    "# CXR Images Flipped and Rotated"
   ]
  },
  {
   "cell_type": "code",
   "execution_count": null,
   "metadata": {},
   "outputs": [],
   "source": [
    "def permute_image(img):\n",
    "    def fimgs(img):\n",
    "        imgs = [img]\n",
    "        imgs.append(sitk.Flip(img, [False, True]))\n",
    "        imgs.append(sitk.Flip(img, [True, False]))\n",
    "        imgs.append(sitk.Flip(img, [True, True]))\n",
    "        return imgs\n",
    "    return fimgs(img) + fimgs(sitk.PermuteAxes(img, [1,0]))\n",
    "\n",
    "permuted_images = []\n",
    "for fn in  nih_file_list[1:100:23]:\n",
    "    permuted_images += permute_image(sitk.ReadImage(fn, sitk.sitkFloat32))\n",
    "\n",
    "myshow(sitk.Tile([normalize_img(img, 128) for img in permuted_images], [8,0]))\n",
    "\n",
    "permuted_images_arr = cxr_model.to_observations(permuted_images)"
   ]
  },
  {
   "cell_type": "code",
   "execution_count": null,
   "metadata": {
    "scrolled": false
   },
   "outputs": [],
   "source": [
    "for model_name in model_name_list: \n",
    "\n",
    "    cxr_model = Model.load_model(model_name+\".pkl\")\n",
    "    \n",
    "    outlier_results = cxr_model.outlier_predictor(permuted_images_arr)\n",
    "    img = tile_with_classification([normalize_img(img, sample_size=128) for img in permuted_images], outlier_results, 8)\n",
    "    sitk.WriteImage(img, \"permuted-\"+model_name+\".png\")\n",
    "\n",
    "    myshow(img, title=model_name)"
   ]
  },
  {
   "cell_type": "code",
   "execution_count": null,
   "metadata": {},
   "outputs": [],
   "source": []
  }
 ],
 "metadata": {
  "kernelspec": {
   "display_name": "Python 3",
   "language": "python",
   "name": "python3"
  },
  "language_info": {
   "codemirror_mode": {
    "name": "ipython",
    "version": 3
   },
   "file_extension": ".py",
   "mimetype": "text/x-python",
   "name": "python",
   "nbconvert_exporter": "python",
   "pygments_lexer": "ipython3",
   "version": "3.7.7"
  }
 },
 "nbformat": 4,
 "nbformat_minor": 4
}
