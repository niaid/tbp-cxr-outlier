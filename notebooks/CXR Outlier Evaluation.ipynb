{
 "cells": [
  {
   "cell_type": "code",
   "execution_count": null,
   "metadata": {},
   "outputs": [],
   "source": [
    "%matplotlib inline\n",
    "TBP_DCM_PATH=\"/scratch/tb/cxr/\"\n",
    "INDIANA_DCM_PATH=\"/scratch/tb/NLM_Indiana_CXRs/cxr/\"\n",
    "\n",
    "NUMBER_SAMPLES=1000\n",
    "RANDOM_SEED=13\n",
    "\n",
    "SAMPLE_IMAGE_SIZE=64"
   ]
  },
  {
   "cell_type": "code",
   "execution_count": null,
   "metadata": {},
   "outputs": [],
   "source": [
    "from glob import glob\n",
    "import random\n",
    "import functools\n",
    "import multiprocessing\n",
    "\n",
    "from functools import partial\n",
    "import SimpleITK as sitk\n",
    "\n",
    "import pandas\n",
    "\n",
    "import numpy as np\n",
    "from numpy import linalg as LA\n",
    "\n",
    "\n",
    "import matplotlib.pyplot as plt\n",
    "\n",
    "from myshow import myshow\n",
    "\n",
    "import pickle"
   ]
  },
  {
   "cell_type": "code",
   "execution_count": null,
   "metadata": {},
   "outputs": [],
   "source": [
    "from importlib import reload  \n",
    "from tbpcxr.model import PCAModel\n",
    "#reload(tbpcxr.model)\n",
    "#PCAModel = tbpcxr.model.PCAModel\n",
    "\n",
    "from tbpcxr.utilities import read_dcm, normalize_img\n",
    "import tbpcxr.registration "
   ]
  },
  {
   "cell_type": "code",
   "execution_count": null,
   "metadata": {},
   "outputs": [],
   "source": [
    "def read_and_classify(cxr_model, filename):\n",
    "    try:\n",
    "        img = read_dcm(filename)\n",
    "    except:\n",
    "        img = sitk.ReadImage(filename, sitk.sitkFloat32)\n",
    "\n",
    "    nimg = normalize_img(img)\n",
    "\n",
    "    rimg = cxr_model.register_to_atlas_and_resample(nimg, verbose=0)\n",
    "    arr = cxr_model._images_to_arr([rimg])\n",
    "\n",
    "    return cxr_model.outlier_predictor(arr)[0], rimg\n",
    "\n",
    "def tile_with_classification(image_list, class_list, width=10): \n",
    "    \n",
    "    def img_to_classification(img, c):\n",
    "        img = sitk.RescaleIntensity(img, outputMinimum=0, outputMaximum=255) \n",
    "        img = sitk.Cast(img, sitk.sitkUInt8)\n",
    "    \n",
    "        img2 = img//2\n",
    "    \n",
    "        if (c < 0 ):\n",
    "            img = sitk.Compose(img, img2, img2)\n",
    "        else:\n",
    "            img = sitk.Compose(img2, img, img2)\n",
    "        return img\n",
    "    \n",
    "    return sitk.Tile([ img_to_classification(img, c) for img,c  in zip(image_list, class_list)], [width,0])\n",
    "\n"
   ]
  },
  {
   "cell_type": "code",
   "execution_count": null,
   "metadata": {},
   "outputs": [],
   "source": [
    "pkl_filename = \"cxr_model.pkl\"\n",
    "with open(pkl_filename, 'rb') as file:\n",
    "    cxr_model = pickle.load(file)"
   ]
  },
  {
   "cell_type": "code",
   "execution_count": null,
   "metadata": {},
   "outputs": [],
   "source": [
    "indiana_file_list =  glob(INDIANA_DCM_PATH+\"/**/*.dcm\", recursive=True)\n",
    "print( \"Found {0} DICOM.\".format(len(indiana_file_list)))\n",
    "\n",
    "read_and_classify_p = partial(read_and_classify, cxr_model)\n",
    "\n",
    "with multiprocessing.Pool() as pool:\n",
    "    indiana_class_rimg = pool.map(read_and_classify_p, indiana_file_list[:10])\n"
   ]
  },
  {
   "cell_type": "code",
   "execution_count": null,
   "metadata": {},
   "outputs": [],
   "source": [
    "outlier_classification, rimg_set = list(zip(*indiana_class_rimg))\n",
    "\n",
    "print(indiana_class_rimg[0][0][0])\n",
    "#myshow( tile_with_classification(outlier_classification, rimg_set, 50))"
   ]
  },
  {
   "cell_type": "code",
   "execution_count": null,
   "metadata": {},
   "outputs": [],
   "source": [
    "test_file_list = dcm_list # random.sample(dcm_list, NUMBER_SAMPLES)\n",
    "\n",
    "\n",
    "\n",
    "with multiprocessing.Pool() as pool:\n",
    "    test_set = pool.map(read_and_normalize, test_file_list[:10])"
   ]
  },
  {
   "cell_type": "code",
   "execution_count": null,
   "metadata": {},
   "outputs": [],
   "source": []
  },
  {
   "cell_type": "code",
   "execution_count": null,
   "metadata": {},
   "outputs": [],
   "source": [
    "dcm_list = glob(TBP_DCM_PATH+\"/**.dcm\")\n",
    "\n",
    "print( \"Found {0} DICOM.\".format(len(dcm_list)))"
   ]
  },
  {
   "cell_type": "code",
   "execution_count": null,
   "metadata": {},
   "outputs": [],
   "source": [
    "reg_set = []\n",
    "outlier_list = []\n",
    "for nimg in test_set:\n",
    "    \n",
    "    #img = read_dcm(fname)\n",
    "    #nimg = normalize_img(img)\n",
    "    rimg = cxr_model.register_to_atlas_and_resample(nimg, verbose=0)\n",
    "    arr = cxr_model._images_to_arr([rimg])\n",
    "    \n",
    "    \n",
    "    outlier_list.append(cxr_model.outlier_predictor(arr))\n",
    "    reg_set.append(rimg)\n",
    "    \n",
    "   "
   ]
  },
  {
   "cell_type": "code",
   "execution_count": null,
   "metadata": {
    "scrolled": false
   },
   "outputs": [],
   "source": [
    "myshow( tile_with_classification(test_set, outlier_list, 50))"
   ]
  },
  {
   "cell_type": "code",
   "execution_count": null,
   "metadata": {},
   "outputs": [],
   "source": [
    "for img in test_set:\n",
    "    rimg = pca.register_to_atlas_and_resample(img)\n",
    "    pca._images_to_arr([img])\n",
    "    \n",
    "    outlier_predictor\n",
    "test_reg_set = [register_and_resample(fixed=normalize_img(pca.avg()), moving=img) for img in test_set]\n",
    "\n",
    "avg = sitk.NaryAdd(train_reg_set )/len(train_reg_set )"
   ]
  },
  {
   "cell_type": "code",
   "execution_count": null,
   "metadata": {},
   "outputs": [],
   "source": [
    "myshow(avg)\n",
    "myshow(normalize_img(pca.avg()))\n",
    "sitk.Show(tile_with_scale(train_reg_set))"
   ]
  },
  {
   "cell_type": "code",
   "execution_count": null,
   "metadata": {},
   "outputs": [],
   "source": [
    "test_reg_set = train_reg_set\n",
    "test_vec = pca._images_to_arr(test_reg_set)"
   ]
  },
  {
   "cell_type": "code",
   "execution_count": null,
   "metadata": {},
   "outputs": [],
   "source": [
    "res = pca.residuals(test_vec)"
   ]
  },
  {
   "cell_type": "code",
   "execution_count": null,
   "metadata": {},
   "outputs": [],
   "source": [
    "mad = pca.median_absolute_deviations(test_vec)"
   ]
  },
  {
   "cell_type": "code",
   "execution_count": null,
   "metadata": {},
   "outputs": [],
   "source": [
    "idxs = np.argsort(mad)\n",
    "sitk.Show(tile_with_scale([test_set[i] for i in idxs if mad[i] > 6], 10) , title=\"Test Registered Images Sorted MAD\")\n",
    "\n"
   ]
  },
  {
   "cell_type": "code",
   "execution_count": null,
   "metadata": {},
   "outputs": [],
   "source": [
    "idxs = np.argsort(res)\n",
    "sitk.Show(tile_with_scale([test_set[i] for i in idxs], 10) , title=\"Test Registered Images Sorted residuals\")\n",
    "\n"
   ]
  },
  {
   "cell_type": "code",
   "execution_count": null,
   "metadata": {
    "scrolled": false
   },
   "outputs": [],
   "source": [
    "%history -g"
   ]
  },
  {
   "cell_type": "code",
   "execution_count": null,
   "metadata": {},
   "outputs": [],
   "source": []
  }
 ],
 "metadata": {
  "kernelspec": {
   "display_name": "Python 3",
   "language": "python",
   "name": "python3"
  },
  "language_info": {
   "codemirror_mode": {
    "name": "ipython",
    "version": 3
   },
   "file_extension": ".py",
   "mimetype": "text/x-python",
   "name": "python",
   "nbconvert_exporter": "python",
   "pygments_lexer": "ipython3",
   "version": "3.7.7"
  }
 },
 "nbformat": 4,
 "nbformat_minor": 4
}
